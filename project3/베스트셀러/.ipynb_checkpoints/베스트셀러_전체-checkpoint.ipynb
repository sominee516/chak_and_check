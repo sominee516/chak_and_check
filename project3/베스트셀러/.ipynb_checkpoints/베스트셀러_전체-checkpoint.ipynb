{
 "cells": [
  {
   "cell_type": "code",
   "execution_count": 21,
   "id": "70471c8c-6b53-4ec0-babd-7e66e05502a2",
   "metadata": {},
   "outputs": [],
   "source": [
    "import pandas as pd\n",
    "import seaborn as sns\n",
    "import matplotlib.pyplot as plt\n",
    "# 에러문구무시\n",
    "import warnings\n",
    "warnings.filterwarnings('ignore')"
   ]
  },
  {
   "cell_type": "code",
   "execution_count": 22,
   "id": "92d14320-418c-43c2-978c-a17fe95339d5",
   "metadata": {
    "tags": []
   },
   "outputs": [],
   "source": [
    "# 파일 읽어오기\n",
    "bestseller = pd.read_excel('교보 2021년 상반기 베스트셀러 목록 100위.xlsx')\n",
    "# 100위까지 자르기\n",
    "bestseller = bestseller.head(100)\n",
    "# 컬럼명 알아보기 쉽게 수정\n",
    "bestseller.columns=['순위','ISBN','도서명','여','남','1위 연령대','2위 연령대','저자','출판사','분야']\n",
    "# 여,남 int형으로 형변환하기위해 %잘라내기\n",
    "bestseller.여 = bestseller.여.str.split('%').str.get(0)\n",
    "bestseller.남 = bestseller.남.str.split('%').str.get(0)\n",
    "# NaN값 0으로 바꾸기\n",
    "bestseller['여'] = bestseller['여'].fillna(0)\n",
    "bestseller['1위 연령대'] = bestseller['1위 연령대'].fillna(0)\n",
    "bestseller['남'] = bestseller['남'].fillna(0)\n",
    "bestseller['2위 연령대'] = bestseller['2위 연령대'].fillna(0)\n",
    "# 여,남 int로 타입바꾸기\n",
    "bestseller.여 = bestseller.여.astype('int')\n",
    "bestseller.남 = bestseller.남.astype('int')"
   ]
  },
  {
   "cell_type": "code",
   "execution_count": 23,
   "id": "ed7a6709-c147-41df-a640-8d5d64fdd2ca",
   "metadata": {
    "collapsed": true,
    "jupyter": {
     "outputs_hidden": true
    },
    "tags": []
   },
   "outputs": [
    {
     "name": "stdout",
     "output_type": "stream",
     "text": [
      "<class 'pandas.core.frame.DataFrame'>\n",
      "RangeIndex: 100 entries, 0 to 99\n",
      "Data columns (total 10 columns):\n",
      " #   Column  Non-Null Count  Dtype \n",
      "---  ------  --------------  ----- \n",
      " 0   순위      100 non-null    int64 \n",
      " 1   ISBN    100 non-null    int64 \n",
      " 2   도서명     100 non-null    object\n",
      " 3   여       100 non-null    int64 \n",
      " 4   남       100 non-null    int64 \n",
      " 5   1위 연령대  100 non-null    object\n",
      " 6   2위 연령대  100 non-null    object\n",
      " 7   저자      100 non-null    object\n",
      " 8   출판사     100 non-null    object\n",
      " 9   분야      100 non-null    object\n",
      "dtypes: int64(4), object(6)\n",
      "memory usage: 7.9+ KB\n"
     ]
    }
   ],
   "source": [
    "bestseller.info()"
   ]
  },
  {
   "cell_type": "code",
   "execution_count": 24,
   "id": "83890dc9-077d-4ab5-a6c6-30aba6b11719",
   "metadata": {
    "collapsed": true,
    "jupyter": {
     "outputs_hidden": true
    },
    "tags": []
   },
   "outputs": [
    {
     "data": {
      "text/html": [
       "<div>\n",
       "<style scoped>\n",
       "    .dataframe tbody tr th:only-of-type {\n",
       "        vertical-align: middle;\n",
       "    }\n",
       "\n",
       "    .dataframe tbody tr th {\n",
       "        vertical-align: top;\n",
       "    }\n",
       "\n",
       "    .dataframe thead th {\n",
       "        text-align: right;\n",
       "    }\n",
       "</style>\n",
       "<table border=\"1\" class=\"dataframe\">\n",
       "  <thead>\n",
       "    <tr style=\"text-align: right;\">\n",
       "      <th></th>\n",
       "      <th>순위</th>\n",
       "      <th>ISBN</th>\n",
       "      <th>도서명</th>\n",
       "      <th>여</th>\n",
       "      <th>남</th>\n",
       "      <th>1위 연령대</th>\n",
       "      <th>2위 연령대</th>\n",
       "      <th>저자</th>\n",
       "      <th>출판사</th>\n",
       "      <th>분야</th>\n",
       "    </tr>\n",
       "  </thead>\n",
       "  <tbody>\n",
       "    <tr>\n",
       "      <th>0</th>\n",
       "      <td>1</td>\n",
       "      <td>9791165341909</td>\n",
       "      <td>달러구트 꿈 백화점</td>\n",
       "      <td>78</td>\n",
       "      <td>22</td>\n",
       "      <td>40대</td>\n",
       "      <td>30대</td>\n",
       "      <td>이미예</td>\n",
       "      <td>팩토리나인</td>\n",
       "      <td>소설</td>\n",
       "    </tr>\n",
       "    <tr>\n",
       "      <th>1</th>\n",
       "      <td>2</td>\n",
       "      <td>9791160023176</td>\n",
       "      <td>주린이가 가장 알고 싶은 최다질문 TOP 77</td>\n",
       "      <td>59</td>\n",
       "      <td>41</td>\n",
       "      <td>40대</td>\n",
       "      <td>30대</td>\n",
       "      <td>염승환</td>\n",
       "      <td>메이트북스</td>\n",
       "      <td>경제경영</td>\n",
       "    </tr>\n",
       "    <tr>\n",
       "      <th>2</th>\n",
       "      <td>3</td>\n",
       "      <td>9788901246086</td>\n",
       "      <td>2030 축의 전환</td>\n",
       "      <td>67</td>\n",
       "      <td>33</td>\n",
       "      <td>40대</td>\n",
       "      <td>50대</td>\n",
       "      <td>마우로 기옌</td>\n",
       "      <td>리더스북</td>\n",
       "      <td>경제경영</td>\n",
       "    </tr>\n",
       "    <tr>\n",
       "      <th>3</th>\n",
       "      <td>4</td>\n",
       "      <td>9791164136452</td>\n",
       "      <td>공정하다는 착각</td>\n",
       "      <td>52</td>\n",
       "      <td>48</td>\n",
       "      <td>40대</td>\n",
       "      <td>20대</td>\n",
       "      <td>마이클 샌델</td>\n",
       "      <td>와이즈베리</td>\n",
       "      <td>인문</td>\n",
       "    </tr>\n",
       "    <tr>\n",
       "      <th>4</th>\n",
       "      <td>5</td>\n",
       "      <td>9791165210144</td>\n",
       "      <td>주식투자 무작정 따라하기</td>\n",
       "      <td>49</td>\n",
       "      <td>51</td>\n",
       "      <td>30대</td>\n",
       "      <td>40대</td>\n",
       "      <td>윤재수</td>\n",
       "      <td>길벗</td>\n",
       "      <td>경제경영</td>\n",
       "    </tr>\n",
       "    <tr>\n",
       "      <th>...</th>\n",
       "      <td>...</td>\n",
       "      <td>...</td>\n",
       "      <td>...</td>\n",
       "      <td>...</td>\n",
       "      <td>...</td>\n",
       "      <td>...</td>\n",
       "      <td>...</td>\n",
       "      <td>...</td>\n",
       "      <td>...</td>\n",
       "      <td>...</td>\n",
       "    </tr>\n",
       "    <tr>\n",
       "      <th>95</th>\n",
       "      <td>96</td>\n",
       "      <td>9788965423386</td>\n",
       "      <td>해커스 토익 스타트 리스닝</td>\n",
       "      <td>100</td>\n",
       "      <td>0</td>\n",
       "      <td>20대</td>\n",
       "      <td>0</td>\n",
       "      <td>David Cho</td>\n",
       "      <td>해커스어학연구소</td>\n",
       "      <td>토익토플</td>\n",
       "    </tr>\n",
       "    <tr>\n",
       "      <th>96</th>\n",
       "      <td>97</td>\n",
       "      <td>9788901248158</td>\n",
       "      <td>유리멘탈을 위한 심리책</td>\n",
       "      <td>78</td>\n",
       "      <td>22</td>\n",
       "      <td>20대</td>\n",
       "      <td>40대</td>\n",
       "      <td>미즈시마 히로코</td>\n",
       "      <td>갤리온</td>\n",
       "      <td>자기계발</td>\n",
       "    </tr>\n",
       "    <tr>\n",
       "      <th>97</th>\n",
       "      <td>98</td>\n",
       "      <td>9791158741051</td>\n",
       "      <td>심리학을 만나 행복해졌다</td>\n",
       "      <td>63</td>\n",
       "      <td>37</td>\n",
       "      <td>50대</td>\n",
       "      <td>30대</td>\n",
       "      <td>장원청</td>\n",
       "      <td>미디어숲</td>\n",
       "      <td>자기계발</td>\n",
       "    </tr>\n",
       "    <tr>\n",
       "      <th>98</th>\n",
       "      <td>99</td>\n",
       "      <td>9791197410307</td>\n",
       "      <td>운의 알고리즘</td>\n",
       "      <td>83</td>\n",
       "      <td>17</td>\n",
       "      <td>40대</td>\n",
       "      <td>30대</td>\n",
       "      <td>정회도</td>\n",
       "      <td>소울소사이어티</td>\n",
       "      <td>자기계발</td>\n",
       "    </tr>\n",
       "    <tr>\n",
       "      <th>99</th>\n",
       "      <td>100</td>\n",
       "      <td>9791155813355</td>\n",
       "      <td>IT 좀 아는 사람</td>\n",
       "      <td>100</td>\n",
       "      <td>0</td>\n",
       "      <td>30대</td>\n",
       "      <td>0</td>\n",
       "      <td>닐 메타</td>\n",
       "      <td>윌북</td>\n",
       "      <td>경제경영</td>\n",
       "    </tr>\n",
       "  </tbody>\n",
       "</table>\n",
       "<p>100 rows × 10 columns</p>\n",
       "</div>"
      ],
      "text/plain": [
       "     순위           ISBN                        도서명    여   남 1위 연령대 2위 연령대  \\\n",
       "0     1  9791165341909                 달러구트 꿈 백화점   78  22    40대    30대   \n",
       "1     2  9791160023176  주린이가 가장 알고 싶은 최다질문 TOP 77   59  41    40대    30대   \n",
       "2     3  9788901246086                 2030 축의 전환   67  33    40대    50대   \n",
       "3     4  9791164136452                   공정하다는 착각   52  48    40대    20대   \n",
       "4     5  9791165210144              주식투자 무작정 따라하기   49  51    30대    40대   \n",
       "..  ...            ...                        ...  ...  ..    ...    ...   \n",
       "95   96  9788965423386             해커스 토익 스타트 리스닝  100   0    20대      0   \n",
       "96   97  9788901248158               유리멘탈을 위한 심리책   78  22    20대    40대   \n",
       "97   98  9791158741051              심리학을 만나 행복해졌다   63  37    50대    30대   \n",
       "98   99  9791197410307                    운의 알고리즘   83  17    40대    30대   \n",
       "99  100  9791155813355                 IT 좀 아는 사람  100   0    30대      0   \n",
       "\n",
       "           저자       출판사    분야  \n",
       "0         이미예     팩토리나인    소설  \n",
       "1         염승환     메이트북스  경제경영  \n",
       "2      마우로 기옌      리더스북  경제경영  \n",
       "3      마이클 샌델     와이즈베리    인문  \n",
       "4         윤재수        길벗  경제경영  \n",
       "..        ...       ...   ...  \n",
       "95  David Cho  해커스어학연구소  토익토플  \n",
       "96   미즈시마 히로코       갤리온  자기계발  \n",
       "97        장원청      미디어숲  자기계발  \n",
       "98        정회도   소울소사이어티  자기계발  \n",
       "99       닐 메타        윌북  경제경영  \n",
       "\n",
       "[100 rows x 10 columns]"
      ]
     },
     "execution_count": 24,
     "metadata": {},
     "output_type": "execute_result"
    }
   ],
   "source": [
    "bestseller"
   ]
  },
  {
   "cell_type": "code",
   "execution_count": 34,
   "id": "324ae8e4-c0fd-49a7-87b8-2f06b5cae47d",
   "metadata": {},
   "outputs": [
    {
     "data": {
      "text/plain": [
       "<AxesSubplot:title={'center':'베스트셀러 소비 점유율'}, xlabel='1위 연령대', ylabel='count'>"
      ]
     },
     "execution_count": 34,
     "metadata": {},
     "output_type": "execute_result"
    },
    {
     "data": {
      "image/png": "[encoded data removed]",
      "text/plain": [
       "<Figure size 432x288 with 1 Axes>"
      ]
     },
     "metadata": {
      "needs_background": "light"
     },
     "output_type": "display_data"
    }
   ],
   "source": [
    "# 베스트셀러 목록에서 1위 연령대별 카운트 막대그래프로 나타내기\n",
    "plt.rcParams['font.family'] = 'Malgun Gothic'\n",
    "plt.title('베스트셀러 소비 점유율')\n",
    "sns.countplot(x='1위 연령대',data=bestseller)"
   ]
  },
  {
   "cell_type": "code",
   "execution_count": 35,
   "id": "fa6c19a2-e64e-463e-9b81-716bb7d2ebba",
   "metadata": {},
   "outputs": [
    {
     "data": {
      "text/plain": [
       "<AxesSubplot:title={'center':'베스트셀러내 인기 분야'}, xlabel='분야', ylabel='count'>"
      ]
     },
     "execution_count": 35,
     "metadata": {},
     "output_type": "execute_result"
    },
    {
     "data": {
      "image/png": "[encoded data removed]",
      "text/plain": [
       "<Figure size 1440x720 with 1 Axes>"
      ]
     },
     "metadata": {
      "needs_background": "light"
     },
     "output_type": "display_data"
    }
   ],
   "source": [
    "# 베스트셀러 목록에서 분야별 카운트 막대그래프로 나타내기\n",
    "plt.figure(figsize=(20,10))\n",
    "plt.title('베스트셀러내 인기 분야')\n",
    "sns.countplot(x='분야',data=bestseller)"
   ]
  },
  {
   "cell_type": "code",
   "execution_count": 30,
   "id": "c667bbed-59c6-4eab-9eb6-ab325176a8ef",
   "metadata": {},
   "outputs": [
    {
     "data": {
      "image/png": "[encoded data removed]",
      "text/plain": [
       "<Figure size 432x288 with 1 Axes>"
      ]
     },
     "metadata": {},
     "output_type": "display_data"
    }
   ],
   "source": [
    "# 베스트셀러에서 성별 구매 비율 파이그래프로 나타내기\n",
    "# 한 권당 여성 구매 비율 컬럼인 '여'의 평균\n",
    "female = bestseller['여'].mean()\n",
    "# 한 권당 남성 구매 비율 컬럼인 '남'의 평균\n",
    "male = bestseller['남'].mean()\n",
    "# female과 male을 label로 파이그래프 작성\n",
    "labels = [female,male]\n",
    "timetables = ['여','남']\n",
    "plt.title('성별 구매 비율')\n",
    "plt.pie(labels,autopct='%.2f',labels=timetables,colors=['lightpink','lightblue'])\n",
    "plt.show()"
   ]
  },
  {
   "cell_type": "code",
   "execution_count": null,
   "id": "6a3c00f2-03d1-49b9-8cd6-62a69ea49490",
   "metadata": {},
   "outputs": [],
   "source": []
  }
 ],
 "metadata": {
  "kernelspec": {
   "display_name": "Python 3",
   "language": "python",
   "name": "python3"
  },
  "language_info": {
   "codemirror_mode": {
    "name": "ipython",
    "version": 3
   },
   "file_extension": ".py",
   "mimetype": "text/x-python",
   "name": "python",
   "nbconvert_exporter": "python",
   "pygments_lexer": "ipython3",
   "version": "3.8.8"
  }
 },
 "nbformat": 4,
 "nbformat_minor": 5
}
