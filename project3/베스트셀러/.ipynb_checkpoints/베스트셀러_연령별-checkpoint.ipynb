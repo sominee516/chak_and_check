{
 "cells": [
  {
   "cell_type": "code",
   "execution_count": 1,
   "id": "01eecb3f-fad3-42b0-9179-daa8908b2842",
   "metadata": {},
   "outputs": [],
   "source": [
    "import pandas as pd\n",
    "import seaborn as sns\n",
    "import matplotlib.pyplot as plt\n",
    "import warnings\n",
    "warnings.filterwarnings('ignore')\n",
    "bestseller = pd.read_excel('교보 2021년 상반기 베스트셀러 목록 100위.xlsx')\n",
    "bestseller = bestseller.head(100)\n",
    "bestseller.columns=['순위','ISBN','도서명','여','남','1위 연령대','2위 연령대','저자','출판사','분야']\n",
    "bestseller.여 = bestseller.여.str.split('%').str.get(0)\n",
    "bestseller.남 = bestseller.남.str.split('%').str.get(0)\n",
    "bestseller['여'] = bestseller['여'].fillna(0)\n",
    "bestseller['1위 연령대'] = bestseller['1위 연령대'].fillna(0)\n",
    "bestseller['남'] = bestseller['남'].fillna(0)\n",
    "bestseller['2위 연령대'] = bestseller['2위 연령대'].fillna(0)\n",
    "bestseller.여 = bestseller.여.astype('int')\n",
    "bestseller.남 = bestseller.남.astype('int')"
   ]
  },
  {
   "cell_type": "code",
   "execution_count": null,
   "id": "b80e38cf-b020-4c5a-9210-4cc1fc8e8594",
   "metadata": {},
   "outputs": [],
   "source": []
  }
 ],
 "metadata": {
  "kernelspec": {
   "display_name": "Python 3",
   "language": "python",
   "name": "python3"
  },
  "language_info": {
   "codemirror_mode": {
    "name": "ipython",
    "version": 3
   },
   "file_extension": ".py",
   "mimetype": "text/x-python",
   "name": "python",
   "nbconvert_exporter": "python",
   "pygments_lexer": "ipython3",
   "version": "3.8.8"
  }
 },
 "nbformat": 4,
 "nbformat_minor": 5
}
